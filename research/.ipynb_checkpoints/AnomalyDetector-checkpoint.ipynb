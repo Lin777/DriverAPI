{
 "cells": [
  {
   "cell_type": "markdown",
   "metadata": {},
   "source": [
    "# Ejemplo de uso del mecanismo de deteccion de anomalias\n",
    "\n",
    "A continuacion se presenta un ejemplo de como se puede usar el mecanismo de deteccion de anomalias cargando los modelos que guardamos en el Notebook MecanismoDeteccionAnomalias"
   ]
  },
  {
   "cell_type": "code",
   "execution_count": 3,
   "metadata": {},
   "outputs": [
    {
     "name": "stderr",
     "output_type": "stream",
     "text": [
      "Using TensorFlow backend.\n"
     ]
    }
   ],
   "source": [
    "# file backend/server/apps/ml/income_classifier/random_forest.py\n",
    "import joblib\n",
    "import pandas as pd\n",
    "import numpy as np\n",
    "import keras\n",
    "\n",
    "class AnomalyDetector:\n",
    "\n",
    "    __instance = None\n",
    "\n",
    "    def __init__(self):\n",
    "        path_to_artifacts = \"\"\n",
    "        self.scaler =  joblib.load(path_to_artifacts + \"scaler.joblib\")\n",
    "        self.pca = joblib.load(path_to_artifacts + \"pca.joblib\")\n",
    "        #self.model = joblib.load(path_to_artifacts + \"model_nn3.joblib\")\n",
    "        self.model = keras.models.load_model(path_to_artifacts + \"model_nn3.h5\")\n",
    "        self.if_model = joblib.load(path_to_artifacts + \"isolation_model.joblib\")\n",
    "\n",
    "    def __new__(cls):\n",
    "        if AnomalyDetector.__instance is None:\n",
    "            AnomalyDetector.__instance = object.__new__(cls)\n",
    "        return AnomalyDetector.__instance\n",
    "\n",
    "    def preprocessing(self, input_data):\n",
    "        # JSON to pandas DataFrame\n",
    "        input_data = pd.read_json(input_data, orient='records')\n",
    "        # input_data = pd.DataFrame(input_data, index=[0])\n",
    "        # fill missing values\n",
    "        input_data = input_data.values\n",
    "        input_data = self.scaler.transform(input_data)\n",
    "        input_data = self.pca.transform(input_data)\n",
    "        return np.array([input_data])\n",
    "\n",
    "    def predict(self, input_data):\n",
    "        diff = self.model.predict(input_data) - input_data\n",
    "        return self.if_model.predict(diff[0].reshape((1,9)))\n",
    "\n",
    "    def postprocessing(self, input_data):\n",
    "        label = \"Normal\"\n",
    "        if input_data[0] < 1:\n",
    "            label = \"Anomaly\"\n",
    "        return {\"probability\": input_data[0], \"label\": label, \"status\": \"OK\"}\n",
    "\n",
    "    def compute_prediction(self, input_data):\n",
    "        try:\n",
    "            input_data = self.preprocessing(input_data)\n",
    "            print('pred')\n",
    "            print(input_data.shape)\n",
    "            prediction = self.predict(input_data)\n",
    "            print('post')\n",
    "            prediction = self.postprocessing(prediction)\n",
    "        except Exception as e:\n",
    "            return {\"status\": \"Error\", \"message\": str(e)}\n",
    "\n",
    "        return prediction"
   ]
  },
  {
   "cell_type": "code",
   "execution_count": 4,
   "metadata": {},
   "outputs": [],
   "source": [
    "ad = AnomalyDetector()"
   ]
  },
  {
   "cell_type": "code",
   "execution_count": 5,
   "metadata": {},
   "outputs": [
    {
     "name": "stdout",
     "output_type": "stream",
     "text": [
      "pred\n",
      "(1, 3, 3)\n",
      "post\n"
     ]
    },
    {
     "data": {
      "text/plain": [
       "{'probability': 1, 'label': 'Normal', 'status': 'OK'}"
      ]
     },
     "execution_count": 5,
     "metadata": {},
     "output_type": "execute_result"
    }
   ],
   "source": [
    "ad.compute_prediction('[{\"acc_x\":4.194016,\"acc_y\":-0.726532, \"acc_z\":8.979568,\"gyr_x\":-0.000900,\"gyr_y\":-0.000748, \"gyr_z\":0.000748},{\"acc_x\":4.206207,\"acc_y\":-0.716492,\"acc_z\":8.832672,\"gyr_x\":-0.000732,\"gyr_y\":-0.000351,\"gyr_z\": 0.000870},{\"acc_x\":4.175949,\"acc_y\":-0.676086,\"acc_z\":8.834686,\"gyr_x\":0.000061,\"gyr_y\":0.000183,\"gyr_z\":-0.000458}]')"
   ]
  },
  {
   "cell_type": "code",
   "execution_count": 6,
   "metadata": {},
   "outputs": [
    {
     "name": "stdout",
     "output_type": "stream",
     "text": [
      "pred\n",
      "(1, 3, 3)\n",
      "post\n"
     ]
    },
    {
     "data": {
      "text/plain": [
       "{'probability': -1, 'label': 'Anomaly', 'status': 'OK'}"
      ]
     },
     "execution_count": 6,
     "metadata": {},
     "output_type": "execute_result"
    }
   ],
   "source": [
    "ad.compute_prediction('[{\"acc_x\":4.798996,\"acc_y\":0.255478, \"acc_z\":6.945023,\"gyr_x\":0.039642,\"gyr_y\":0.007202, \"gyr_z\":0.053223\t},{\"acc_x\":5.240753,\"acc_y\":0.271469,\"acc_z\":7.980225,\"gyr_x\":0.001465,\"gyr_y\":-0.008545,\"gyr_z\": 0.012909},{\"acc_x\":3.782837,\"acc_y\":2.956512,\"acc_z\":8.834686,\"gyr_x\":0.141922,\"gyr_y\":0.033630,\"gyr_z\":0.275391}]')"
   ]
  },
  {
   "cell_type": "code",
   "execution_count": null,
   "metadata": {},
   "outputs": [],
   "source": []
  }
 ],
 "metadata": {
  "kernelspec": {
   "display_name": "Python 3",
   "language": "python",
   "name": "python3"
  },
  "language_info": {
   "codemirror_mode": {
    "name": "ipython",
    "version": 3
   },
   "file_extension": ".py",
   "mimetype": "text/x-python",
   "name": "python",
   "nbconvert_exporter": "python",
   "pygments_lexer": "ipython3",
   "version": "3.6.10"
  }
 },
 "nbformat": 4,
 "nbformat_minor": 2
}
